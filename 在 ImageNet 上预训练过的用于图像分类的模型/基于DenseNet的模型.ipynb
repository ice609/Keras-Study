{
 "cells": [
  {
   "cell_type": "code",
   "execution_count": null,
   "metadata": {
    "collapsed": true
   },
   "outputs": [],
   "source": [
    "keras.applications.densenet.DenseNet121(include_top=True, weights='imagenet', input_tensor=None, input_shape=None, pooling=None, classes=1000)\n",
    "keras.applications.densenet.DenseNet169(include_top=True, weights='imagenet', input_tensor=None, input_shape=None, pooling=None, classes=1000)\n",
    "keras.applications.densenet.DenseNet201(include_top=True, weights='imagenet', input_tensor=None, input_shape=None, pooling=None, classes=1000)"
   ]
  },
  {
   "cell_type": "code",
   "execution_count": null,
   "metadata": {
    "collapsed": true
   },
   "outputs": [],
   "source": [
    "\"\"\"\n",
    "\n",
    "在 ImageNet 上预训练的 DenseNet 模型。\n",
    "\n",
    "该模型可同时构建于 channels_first (通道，高度，宽度) 和 channels_last（高度，宽度，通道）两种输入维度顺序。\n",
    "\n",
    "模型默认输入尺寸是 224x224。\n",
    "\n",
    "参数\n",
    "blocks: 四个 Dense Layers 的 block 数量。\n",
    "include_top: 是否包括顶层的全连接层。\n",
    "weights: None 代表随机初始化， 'imagenet' 代表加载在 ImageNet 上预训练的权值。\n",
    "input_tensor: 可选，Keras tensor 作为模型的输入（比如 layers.Input() 输出的 tensor）。\n",
    "input_shape: 可选，输入尺寸元组，仅当 include_top=False 时有效（不然输入形状必须是 (224, 224, 3) （channels_last 格式）或 (3, 224, 224) （channels_first 格式），因为预训练模型是以这个大小训练的）。它必须为 3 个输入通道，且宽高必须不小于 32，比如 (200, 200, 3) 是一个合法的输入尺寸。\n",
    "pooling: 可选，当 include_top 为 False 时，该参数指定了特征提取时的池化方式。\n",
    "None 代表不池化，直接输出最后一层卷积层的输出，该输出是一个四维张量。\n",
    "'avg' 代表全局平均池化（GlobalAveragePooling2D），相当于在最后一层卷积层后面再加一层全局平均池化层，输出是一个二维张量。\n",
    "'max' 代表全局最大池化.\n",
    "classes: 可选，图片分类的类别数，仅当 include_top 为 True 并且不加载预训练权值时可用。\n",
    "返回\n",
    "一个 Keras Model 对象。\n",
    "\n",
    "参考文献\n",
    "Densely Connected Convolutional Networks (CVPR 2017 Best Paper Award)\n",
    "Licence\n",
    "预训练权值基于 BSD 3-clause License。\n",
    "\n",
    "\"\"\""
   ]
  }
 ],
 "metadata": {
  "kernelspec": {
   "display_name": "Python [default]",
   "language": "python",
   "name": "python3"
  },
  "language_info": {
   "codemirror_mode": {
    "name": "ipython",
    "version": 3
   },
   "file_extension": ".py",
   "mimetype": "text/x-python",
   "name": "python",
   "nbconvert_exporter": "python",
   "pygments_lexer": "ipython3",
   "version": "3.5.4"
  }
 },
 "nbformat": 4,
 "nbformat_minor": 2
}
