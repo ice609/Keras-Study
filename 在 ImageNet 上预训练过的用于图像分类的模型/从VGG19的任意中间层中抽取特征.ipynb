{
 "cells": [
  {
   "cell_type": "code",
   "execution_count": 1,
   "metadata": {},
   "outputs": [
    {
     "name": "stderr",
     "output_type": "stream",
     "text": [
      "Using TensorFlow backend.\n"
     ]
    }
   ],
   "source": [
    "from keras.applications.vgg19 import VGG19\n",
    "from keras.preprocessing import image\n",
    "from keras.applications.vgg19 import preprocess_input\n",
    "from keras.models import Model\n",
    "import numpy as np"
   ]
  },
  {
   "cell_type": "code",
   "execution_count": 4,
   "metadata": {},
   "outputs": [
    {
     "name": "stderr",
     "output_type": "stream",
     "text": [
      "C:\\Users\\hh\\Anaconda3\\lib\\site-packages\\ipykernel\\__main__.py:2: UserWarning: Update your `Model` call to the Keras 2 API: `Model(inputs=Tensor(\"in..., outputs=Tensor(\"bl...)`\n",
      "  from ipykernel import kernelapp as app\n"
     ]
    }
   ],
   "source": [
    "base_model = VGG19(weights = \"imagenet\")\n",
    "model = Model(input = base_model.input,outputs = base_model.get_layer(\"block4_pool\").output)\n",
    "\n",
    "img_path = \"C:/Users/hh/Desktop/Keras Model/1. Application/11568.jpg\"\n",
    "img = image.load_img(img_path,target_size = (224,224))"
   ]
  },
  {
   "cell_type": "code",
   "execution_count": 5,
   "metadata": {},
   "outputs": [
    {
     "name": "stdout",
     "output_type": "stream",
     "text": [
      "(224, 224, 3)\n"
     ]
    }
   ],
   "source": [
    "x = image.img_to_array(img)\n",
    "print(x.shape)"
   ]
  },
  {
   "cell_type": "code",
   "execution_count": 6,
   "metadata": {},
   "outputs": [
    {
     "name": "stdout",
     "output_type": "stream",
     "text": [
      "(1, 224, 224, 3)\n"
     ]
    }
   ],
   "source": [
    "x = np.expand_dims(x,axis = 0)\n",
    "print(x.shape)"
   ]
  },
  {
   "cell_type": "code",
   "execution_count": 7,
   "metadata": {},
   "outputs": [
    {
     "name": "stdout",
     "output_type": "stream",
     "text": [
      "(1, 224, 224, 3)\n"
     ]
    }
   ],
   "source": [
    "x = preprocess_input(x)\n",
    "print(x.shape)"
   ]
  },
  {
   "cell_type": "code",
   "execution_count": 8,
   "metadata": {},
   "outputs": [
    {
     "name": "stdout",
     "output_type": "stream",
     "text": [
      "(1, 224, 224, 3)\n"
     ]
    }
   ],
   "source": [
    "block4_pool_features = model.predict(x)\n",
    "print(x.shape)"
   ]
  },
  {
   "cell_type": "code",
   "execution_count": 6,
   "metadata": {},
   "outputs": [
    {
     "name": "stdout",
     "output_type": "stream",
     "text": [
      "(1, 14, 14, 512)\n",
      "[[[[   0.        105.19155   148.84944  ...    0.          0.\n",
      "       0.      ]\n",
      "   [ 495.74503    93.57739   102.57633  ...    0.          0.\n",
      "       0.      ]\n",
      "   [1066.6136     38.587337  104.13535  ...    0.          0.\n",
      "       0.      ]\n",
      "   ...\n",
      "   [   0.          0.       1599.4373   ...    0.          0.\n",
      "      44.781563]\n",
      "   [  97.88154   261.66562    94.07023  ...    0.          0.\n",
      "      39.270573]\n",
      "   [   0.         23.919943    0.       ...    0.        502.155\n",
      "     408.57986 ]]\n",
      "\n",
      "  [[   0.        337.8625      0.       ...    0.          0.\n",
      "      13.008799]\n",
      "   [ 603.72253   113.84615     0.       ...    0.          0.\n",
      "       0.      ]\n",
      "   [1165.7659      0.          0.       ...    0.        355.41455\n",
      "       0.      ]\n",
      "   ...\n",
      "   [   0.          0.          0.       ...  747.107       0.\n",
      "       0.      ]\n",
      "   [ 239.51172     0.         67.42899  ...  201.30821     0.\n",
      "       0.      ]\n",
      "   [   0.         35.21072     0.       ...    0.          0.\n",
      "       0.      ]]\n",
      "\n",
      "  [[   0.          0.          0.       ...    0.          0.\n",
      "       0.      ]\n",
      "   [ 948.4223      0.          0.       ...    0.          0.\n",
      "       0.      ]\n",
      "   [1385.0764      0.          0.       ...    0.       1008.43384\n",
      "       0.      ]\n",
      "   ...\n",
      "   [   0.          0.          0.       ...  296.5997     21.024746\n",
      "       0.      ]\n",
      "   [  87.7642      0.          0.       ...  331.00497     0.\n",
      "     127.33298 ]\n",
      "   [   0.          0.          0.       ...  107.88232     0.\n",
      "      56.183655]]\n",
      "\n",
      "  ...\n",
      "\n",
      "  [[   0.        245.98717    50.197227 ...    0.         15.178493\n",
      "       0.      ]\n",
      "   [   0.          0.         12.137273 ...  428.8335    457.3501\n",
      "       0.      ]\n",
      "   [   0.          0.          0.       ...    0.          0.\n",
      "       0.      ]\n",
      "   ...\n",
      "   [   0.          0.        433.6833   ...    0.          0.\n",
      "     354.26474 ]\n",
      "   [ 247.46255     0.        703.4571   ...    0.          0.\n",
      "     315.72174 ]\n",
      "   [ 628.07184     0.        444.46664  ...    0.          0.\n",
      "       0.      ]]\n",
      "\n",
      "  [[   0.          0.          0.       ...    0.        277.88037\n",
      "     283.07483 ]\n",
      "   [   0.          0.          0.       ...  813.36707     0.\n",
      "       0.      ]\n",
      "   [   0.          0.          0.       ...    0.          0.\n",
      "     243.13087 ]\n",
      "   ...\n",
      "   [   0.          0.        241.14761  ...    0.          0.\n",
      "       0.      ]\n",
      "   [  17.873592    0.          0.       ...    0.          0.\n",
      "       0.      ]\n",
      "   [ 446.15536     0.          0.       ...    0.          0.\n",
      "       0.      ]]\n",
      "\n",
      "  [[   0.        143.14345     0.       ...    0.         52.565838\n",
      "       0.      ]\n",
      "   [   0.          0.          0.       ...    0.          0.\n",
      "       0.      ]\n",
      "   [   0.        202.376       0.       ...    0.         27.42595\n",
      "       0.      ]\n",
      "   ...\n",
      "   [  73.50793     0.          0.       ...    0.         94.61344\n",
      "       0.      ]\n",
      "   [   0.          0.          0.       ...    0.        334.05862\n",
      "       0.      ]\n",
      "   [  16.350006    0.        261.05753  ...    0.         41.29536\n",
      "     206.24591 ]]]]\n"
     ]
    }
   ],
   "source": [
    "print(block4_pool_features.shape)\n",
    "print(block4_pool_features)"
   ]
  },
  {
   "cell_type": "code",
   "execution_count": null,
   "metadata": {
    "collapsed": true
   },
   "outputs": [],
   "source": [
    "# https://keras.io/zh/applications/"
   ]
  }
 ],
 "metadata": {
  "kernelspec": {
   "display_name": "Python [default]",
   "language": "python",
   "name": "python3"
  },
  "language_info": {
   "codemirror_mode": {
    "name": "ipython",
    "version": 3
   },
   "file_extension": ".py",
   "mimetype": "text/x-python",
   "name": "python",
   "nbconvert_exporter": "python",
   "pygments_lexer": "ipython3",
   "version": "3.5.4"
  }
 },
 "nbformat": 4,
 "nbformat_minor": 2
}
