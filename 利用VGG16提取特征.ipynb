{
 "cells": [
  {
   "cell_type": "code",
   "execution_count": 2,
   "metadata": {},
   "outputs": [
    {
     "name": "stderr",
     "output_type": "stream",
     "text": [
      "Using TensorFlow backend.\n"
     ]
    }
   ],
   "source": [
    "from keras.applications.vgg16 import VGG16\n",
    "from keras.preprocessing import image\n",
    "from keras.applications.vgg16 import preprocess_input\n",
    "import numpy as np"
   ]
  },
  {
   "cell_type": "code",
   "execution_count": 3,
   "metadata": {},
   "outputs": [],
   "source": [
    "model = VGG16(weights=\"imagenet\", include_top=False)\n",
    "\n",
    "img_path = \"C:/Users/hh/Desktop/Keras Model/1. Application/11568.jpg\"\n",
    "img = image.load_img(img_path, target_size=(224, 224))\n",
    "x = image.img_to_array(img)"
   ]
  },
  {
   "cell_type": "code",
   "execution_count": 4,
   "metadata": {},
   "outputs": [
    {
     "name": "stdout",
     "output_type": "stream",
     "text": [
      "(1, 224, 224, 3)\n"
     ]
    }
   ],
   "source": [
    "x = np.expand_dims(x, axis=0)\n",
    "print(x.shape)"
   ]
  },
  {
   "cell_type": "code",
   "execution_count": 5,
   "metadata": {},
   "outputs": [
    {
     "name": "stdout",
     "output_type": "stream",
     "text": [
      "(1, 224, 224, 3)\n"
     ]
    }
   ],
   "source": [
    "x = preprocess_input(x)\n",
    "print(x.shape)"
   ]
  },
  {
   "cell_type": "code",
   "execution_count": 6,
   "metadata": {
    "collapsed": true
   },
   "outputs": [],
   "source": [
    "features = model.predict(x)"
   ]
  },
  {
   "cell_type": "code",
   "execution_count": 7,
   "metadata": {},
   "outputs": [
    {
     "name": "stdout",
     "output_type": "stream",
     "text": [
      "[[[[ 0.         0.         0.        ...  0.         0.\n",
      "     0.       ]\n",
      "   [ 0.         0.         0.        ...  0.         0.\n",
      "     0.       ]\n",
      "   [ 0.         0.         0.        ...  0.         0.\n",
      "     0.       ]\n",
      "   ...\n",
      "   [ 0.         0.         0.        ...  0.         0.\n",
      "     0.       ]\n",
      "   [ 0.         0.         0.        ...  0.         0.\n",
      "     0.       ]\n",
      "   [ 0.         0.         0.        ...  0.         0.\n",
      "     0.       ]]\n",
      "\n",
      "  [[ 0.         0.         0.        ...  0.         0.\n",
      "     0.       ]\n",
      "   [ 0.         0.         8.858934  ...  0.         0.\n",
      "     0.       ]\n",
      "   [ 0.         0.        10.811475  ...  0.         0.\n",
      "     0.       ]\n",
      "   ...\n",
      "   [ 0.         0.        42.448124  ...  0.         0.\n",
      "     0.       ]\n",
      "   [ 0.         0.        51.289444  ...  0.         0.\n",
      "     0.       ]\n",
      "   [ 0.         0.         6.8917108 ...  0.         0.\n",
      "     0.       ]]\n",
      "\n",
      "  [[ 0.         0.         0.        ...  0.         0.\n",
      "     9.285916 ]\n",
      "   [ 0.         0.        12.112532  ...  0.         0.\n",
      "     0.       ]\n",
      "   [ 0.         0.        30.425972  ...  0.         0.\n",
      "     0.       ]\n",
      "   ...\n",
      "   [ 0.         0.        74.02951   ...  0.         0.\n",
      "     2.759732 ]\n",
      "   [ 0.         0.        91.937584  ...  0.         0.\n",
      "    16.295551 ]\n",
      "   [ 0.         0.        45.20083   ...  0.         0.\n",
      "    13.0499735]]\n",
      "\n",
      "  ...\n",
      "\n",
      "  [[ 7.2969856 54.554516   0.        ...  0.         0.\n",
      "     0.       ]\n",
      "   [27.897116  39.288715   0.        ...  0.         0.\n",
      "     0.       ]\n",
      "   [ 2.390639   4.280598  14.433577  ...  0.         0.\n",
      "     4.150558 ]\n",
      "   ...\n",
      "   [37.48936    0.         6.9057317 ...  0.         5.997541\n",
      "     0.       ]\n",
      "   [13.802166   0.        14.040353  ...  0.         0.\n",
      "     0.       ]\n",
      "   [ 0.         0.         0.        ...  0.        23.875183\n",
      "     0.       ]]\n",
      "\n",
      "  [[ 0.         0.         0.        ...  0.         0.\n",
      "     2.6718924]\n",
      "   [ 0.         0.         8.519797  ...  0.         0.\n",
      "     0.       ]\n",
      "   [ 0.         0.        14.929491  ...  0.         0.\n",
      "     0.       ]\n",
      "   ...\n",
      "   [ 0.         0.        11.803339  ...  0.        14.553366\n",
      "     0.       ]\n",
      "   [ 0.         0.         0.        ...  0.         0.\n",
      "     0.       ]\n",
      "   [ 0.        10.239603   0.        ...  0.        10.055761\n",
      "     0.       ]]\n",
      "\n",
      "  [[ 0.         0.         0.        ...  0.         0.\n",
      "     0.       ]\n",
      "   [ 0.         0.         0.        ...  0.         0.\n",
      "     0.       ]\n",
      "   [ 0.         0.         0.        ...  0.         0.\n",
      "     0.       ]\n",
      "   ...\n",
      "   [ 0.         0.         0.        ...  0.         0.\n",
      "     0.       ]\n",
      "   [ 0.         0.         0.        ...  0.         0.\n",
      "     0.       ]\n",
      "   [ 0.        29.104357  28.887712  ...  0.         0.\n",
      "     0.       ]]]]\n"
     ]
    }
   ],
   "source": [
    "print(features)"
   ]
  },
  {
   "cell_type": "code",
   "execution_count": null,
   "metadata": {
    "collapsed": true
   },
   "outputs": [],
   "source": []
  }
 ],
 "metadata": {
  "kernelspec": {
   "display_name": "Python [default]",
   "language": "python",
   "name": "python3"
  },
  "language_info": {
   "codemirror_mode": {
    "name": "ipython",
    "version": 3
   },
   "file_extension": ".py",
   "mimetype": "text/x-python",
   "name": "python",
   "nbconvert_exporter": "python",
   "pygments_lexer": "ipython3",
   "version": "3.5.4"
  }
 },
 "nbformat": 4,
 "nbformat_minor": 2
}
