{
 "cells": [
  {
   "cell_type": "code",
   "execution_count": null,
   "metadata": {
    "collapsed": true
   },
   "outputs": [],
   "source": [
    "keras.applications.xception.Xception(include_top=True, weights='imagenet', \n",
    "                                     input_tensor=None, input_shape=None, pooling=None, classes=1000)"
   ]
  },
  {
   "cell_type": "code",
   "execution_count": null,
   "metadata": {
    "collapsed": true
   },
   "outputs": [],
   "source": [
    "\"\"\"\n",
    "在 ImageNet 上预训练的 Xception V1 模型。\n",
    "\n",
    "在 ImageNet 上，该模型取得了验证集 top1 0.790 和 top5 0.945 的准确率。\n",
    "\n",
    "注意该模型只支持 channels_last 的维度顺序（高度、宽度、通道）。\n",
    "\n",
    "模型默认输入尺寸是 299x299。\n",
    "\n",
    "\"\"\"\n",
    "\"\"\"\n",
    "参数\n",
    "include_top: 是否包括顶层的全连接层。\n",
    "weights: None 代表随机初始化， 'imagenet' 代表加载在 ImageNet 上预训练的权值。\n",
    "input_tensor: 可选，Keras tensor 作为模型的输入（即 layers.Input() 输出的 tensor）。\n",
    "input_shape: 可选，输入尺寸元组，仅当 include_top=False 时有效（否则输入形状必须是 (299, 299, 3)，因为预训练模型是以这个大小训练的）。它必须拥有 3 个输入通道，且宽高必须不小于 71。例如 (150, 150, 3) 是一个合法的输入尺寸。\n",
    "pooling: 可选，当 include_top 为 False 时，该参数指定了特征提取时的池化方式。\n",
    "None 代表不池化，直接输出最后一层卷积层的输出，该输出是一个 4D 张量。\n",
    "'avg' 代表全局平均池化（GlobalAveragePooling2D），相当于在最后一层卷积层后面再加一层全局平均池化层，输出是一个 2D 张量。\n",
    "'max' 代表全局最大池化。\n",
    "classes: 可选，图片分类的类别数，仅当 include_top 为 True 并且不加载预训练权值时可用。\n",
    "返回值\n",
    "一个 Keras Model 对象.\n",
    "\n",
    "参考文献\n",
    "Xception: Deep Learning with Depthwise Separable Convolutions\n",
    "License\n",
    "预训练权值由我们自己训练而来，基于 MIT license 发布\n",
    "\n",
    "\"\"\"\n"
   ]
  }
 ],
 "metadata": {
  "kernelspec": {
   "display_name": "Python [default]",
   "language": "python",
   "name": "python3"
  },
  "language_info": {
   "codemirror_mode": {
    "name": "ipython",
    "version": 3
   },
   "file_extension": ".py",
   "mimetype": "text/x-python",
   "name": "python",
   "nbconvert_exporter": "python",
   "pygments_lexer": "ipython3",
   "version": "3.5.4"
  }
 },
 "nbformat": 4,
 "nbformat_minor": 2
}
