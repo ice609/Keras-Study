{
 "cells": [
  {
   "cell_type": "code",
   "execution_count": null,
   "metadata": {
    "collapsed": true
   },
   "outputs": [],
   "source": [
    "keras.applications.mobilenet.MobileNet(input_shape=None, alpha=1.0, depth_multiplier=1, dropout=1e-3, include_top=True, weights='imagenet',\n",
    "                                       input_tensor=None, pooling=None, classes=1000)"
   ]
  },
  {
   "cell_type": "code",
   "execution_count": null,
   "metadata": {
    "collapsed": true
   },
   "outputs": [],
   "source": [
    "\"\"\"\n",
    "\n",
    "在 ImageNet 上预训练的 MobileNet 模型。\n",
    "\n",
    "注意，该模型目前只支持 channels_last 的维度顺序（高度、宽度、通道）。\n",
    "\n",
    "模型默认输入尺寸是 224x224。\n",
    "\n",
    "参数\n",
    "input_shape: 可选，输入尺寸元组，仅当 include_top=False 时有效，否则输入形状必须是 (224, 224, 3)（channels_last 格式）或 (3, 224, 224)（channels_first 格式）。它必须为 3 个输入通道，且宽高必须不小于 32，比如 (200, 200, 3) 是一个合法的输入尺寸。\n",
    "alpha: 控制网络的宽度：\n",
    "如果 alpha < 1.0，则同比例减少每层的滤波器个数。\n",
    "如果 alpha > 1.0，则同比例增加每层的滤波器个数。\n",
    "如果 alpha = 1，使用论文默认的滤波器个数\n",
    "depth_multiplier: depthwise卷积的深度乘子，也称为（分辨率乘子）\n",
    "dropout: dropout 概率\n",
    "include_top: 是否包括顶层的全连接层。\n",
    "weights: None 代表随机初始化， 'imagenet' 代表加载在 ImageNet 上预训练的权值。\n",
    "input_tensor: 可选，Keras tensor 作为模型的输入（比如 layers.Input() 输出的 tensor）。\n",
    "pooling: 可选，当 include_top 为 False 时，该参数指定了特征提取时的池化方式。\n",
    "None 代表不池化，直接输出最后一层卷积层的输出，该输出是一个四维张量。\n",
    "'avg' 代表全局平均池化（GlobalAveragePooling2D），相当于在最后一层卷积层后面再加一层全局平均池化层，输出是一个二维张量。\n",
    "'max' 代表全局最大池化\n",
    "classes: 可选，图片分类的类别数，仅当 include_top 为 True 并且不加载预训练权值时可用。\n",
    "返回\n",
    "一个 Keras Model 对象。\n",
    "\n",
    "参考文献\n",
    "MobileNets: Efficient Convolutional Neural Networks for Mobile Vision Applications\n",
    "License\n",
    "预训练权值基于 Apache License。\n",
    "\n",
    "\"\"\""
   ]
  }
 ],
 "metadata": {
  "kernelspec": {
   "display_name": "Python [default]",
   "language": "python",
   "name": "python3"
  },
  "language_info": {
   "codemirror_mode": {
    "name": "ipython",
    "version": 3
   },
   "file_extension": ".py",
   "mimetype": "text/x-python",
   "name": "python",
   "nbconvert_exporter": "python",
   "pygments_lexer": "ipython3",
   "version": "3.5.4"
  }
 },
 "nbformat": 4,
 "nbformat_minor": 2
}
