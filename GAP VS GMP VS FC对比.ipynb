{
 "cells": [
  {
   "cell_type": "code",
   "execution_count": 3,
   "metadata": {},
   "outputs": [
    {
     "name": "stderr",
     "output_type": "stream",
     "text": [
      "Using TensorFlow backend.\n"
     ]
    }
   ],
   "source": [
    "import numpy as np\n",
    "import tensorflow as tf\n",
    "from keras import layers\n",
    "from keras.layers import Input, Dense, Activation, ZeroPadding2D, BatchNormalization, Flatten, Conv2D\n",
    "from keras.layers import AveragePooling2D, MaxPooling2D, Dropout, GlobalMaxPooling2D, GlobalAveragePooling2D\n",
    "from keras.models import Model\n",
    "from keras.preprocessing import image\n",
    "from keras.utils import layer_utils\n",
    "from keras.utils.data_utils import get_file\n",
    "from keras.applications.imagenet_utils import preprocess_input\n",
    "import pydot\n",
    "from IPython.display import SVG\n",
    "from keras.utils.vis_utils import model_to_dot\n",
    "\n",
    "import keras.backend as K\n",
    "K.set_image_data_format('channels_last')\n",
    "import matplotlib.pyplot as plt\n",
    "from matplotlib.pyplot import imshow\n",
    "\n",
    "%matplotlib inline"
   ]
  },
  {
   "cell_type": "code",
   "execution_count": 4,
   "metadata": {
    "collapsed": true
   },
   "outputs": [],
   "source": [
    "from keras.applications.vgg19 import VGG19\n",
    "import matplotlib as plt\n",
    "import keras\n",
    "from keras.preprocessing.image import ImageDataGenerator"
   ]
  },
  {
   "cell_type": "code",
   "execution_count": 5,
   "metadata": {
    "collapsed": true
   },
   "outputs": [],
   "source": [
    "np.random.seed(7)\n",
    "batch_size = 32\n",
    "epochs = 1\n",
    "IMAGE_SIZE = 224\n",
    "NUM_CLASSES = 17"
   ]
  },
  {
   "cell_type": "code",
   "execution_count": 6,
   "metadata": {
    "collapsed": true
   },
   "outputs": [],
   "source": [
    "TRAIN_PATH = \"C:/Users/hh/Desktop/17flowerclasses/train\"\n",
    "TEST_PATH = \"C:/Users/hh/Desktop/17flowerclasses/test\"\n",
    "FLOWER_CLASSES = ['Bluebell', 'ButterCup', 'ColtsFoot', 'Cowslip', 'Crocus', 'Daffodil', 'Daisy',\n",
    "                  'Dandelion', 'Fritillary', 'Iris', 'LilyValley', 'Pansy', 'Snowdrop', 'Sunflower',\n",
    "                  'Tigerlily', 'tulip', 'WindFlower']"
   ]
  },
  {
   "cell_type": "code",
   "execution_count": 11,
   "metadata": {
    "collapsed": true
   },
   "outputs": [],
   "source": [
    "def model(mode=\"fc\"):\n",
    "    if mode == \"fc\":\n",
    "        base_model = VGG19(weights = \"imagenet\",input_shape = (IMAGE_SIZE,IMAGE_SIZE,3),include_top = False,pooling = \"none\")\n",
    "        x = base_model.output\n",
    "        x = Flatten()(x)\n",
    "        x = Dense(512,activation = \"relu\")(x)\n",
    "        prediction = Dense(NUM_CLASSES,activation = \"softmax\")(x)\n",
    "        \n",
    "    elif mode == \"avg\":\n",
    "        \n",
    "        base_model = VGG19(weights = \"imagenet\",imput_shape = (IMAGE_SIZE,IMAGE_SIZE,3),include_top = False,pooling = \"avg\")\n",
    "        x = base_model.output\n",
    "        prediction = Dense(NUM_CLASSES,activation = \"softmax\")(x)\n",
    "        \n",
    "    else:\n",
    "        base_model = VGG19(weights = \"imagenet\",imput_shape = (IMAGE_SIZE,IMAGE_SIZE,3),include_top = False,pooling = \"max\")\n",
    "        x = base_model.output\n",
    "        prediction = Dense(NUM_CLASES,activation = \"softmax\")(x)\n",
    "        \n",
    "    model = Model(input = base_model.input, output = prediction)\n",
    "    model.summary()\n",
    "    \n",
    "    opt = keras.optimizers.rmsprop(lr=0.0001, decay=1e-6)\n",
    "    model.compile(loss = \"categorical_crossentropy\",optimizer = opt, metrics = [\"accuracy\"])\n",
    "    \n",
    "    # 使用数据增强\n",
    "    train_datagen = ImageDataGenerator()\n",
    "    train_generator = train_datagen.flow_from_directory(directory=TRAIN_PATH,target_size = (IMAGE_SIZE,IMAGE_SIZE),classes = FLOWER_CLASSES)\n",
    "    test_datagen = ImageDataGenerator()\n",
    "    test_generator = test_datagen.flow_from_directory(directory=TEST_PATH,target_size=(IMAGE_SIZE,IMAGE_SIZE),classes = FLOWER_CLASSES)   \n",
    "    \n",
    "    history = model.fit_generator(train_generator, epochs=epochs, steps_per_epoch = 2,validation_steps = 2,validation_data=test_generator)\n",
    "    \n",
    "    #history = model.fit_generator(train_generator, epochs=epochs, validation_data=test_generator)\n",
    "    \n",
    "    return history                                                   "
   ]
  },
  {
   "cell_type": "code",
   "execution_count": null,
   "metadata": {
    "scrolled": true
   },
   "outputs": [
    {
     "name": "stderr",
     "output_type": "stream",
     "text": [
      "C:\\Users\\hh\\Anaconda3\\lib\\site-packages\\ipykernel\\__main__.py:20: UserWarning: Update your `Model` call to the Keras 2 API: `Model(inputs=Tensor(\"in..., outputs=Tensor(\"de...)`\n"
     ]
    },
    {
     "name": "stdout",
     "output_type": "stream",
     "text": [
      "_________________________________________________________________\n",
      "Layer (type)                 Output Shape              Param #   \n",
      "=================================================================\n",
      "input_3 (InputLayer)         (None, 224, 224, 3)       0         \n",
      "_________________________________________________________________\n",
      "block1_conv1 (Conv2D)        (None, 224, 224, 64)      1792      \n",
      "_________________________________________________________________\n",
      "block1_conv2 (Conv2D)        (None, 224, 224, 64)      36928     \n",
      "_________________________________________________________________\n",
      "block1_pool (MaxPooling2D)   (None, 112, 112, 64)      0         \n",
      "_________________________________________________________________\n",
      "block2_conv1 (Conv2D)        (None, 112, 112, 128)     73856     \n",
      "_________________________________________________________________\n",
      "block2_conv2 (Conv2D)        (None, 112, 112, 128)     147584    \n",
      "_________________________________________________________________\n",
      "block2_pool (MaxPooling2D)   (None, 56, 56, 128)       0         \n",
      "_________________________________________________________________\n",
      "block3_conv1 (Conv2D)        (None, 56, 56, 256)       295168    \n",
      "_________________________________________________________________\n",
      "block3_conv2 (Conv2D)        (None, 56, 56, 256)       590080    \n",
      "_________________________________________________________________\n",
      "block3_conv3 (Conv2D)        (None, 56, 56, 256)       590080    \n",
      "_________________________________________________________________\n",
      "block3_conv4 (Conv2D)        (None, 56, 56, 256)       590080    \n",
      "_________________________________________________________________\n",
      "block3_pool (MaxPooling2D)   (None, 28, 28, 256)       0         \n",
      "_________________________________________________________________\n",
      "block4_conv1 (Conv2D)        (None, 28, 28, 512)       1180160   \n",
      "_________________________________________________________________\n",
      "block4_conv2 (Conv2D)        (None, 28, 28, 512)       2359808   \n",
      "_________________________________________________________________\n",
      "block4_conv3 (Conv2D)        (None, 28, 28, 512)       2359808   \n",
      "_________________________________________________________________\n",
      "block4_conv4 (Conv2D)        (None, 28, 28, 512)       2359808   \n",
      "_________________________________________________________________\n",
      "block4_pool (MaxPooling2D)   (None, 14, 14, 512)       0         \n",
      "_________________________________________________________________\n",
      "block5_conv1 (Conv2D)        (None, 14, 14, 512)       2359808   \n",
      "_________________________________________________________________\n",
      "block5_conv2 (Conv2D)        (None, 14, 14, 512)       2359808   \n",
      "_________________________________________________________________\n",
      "block5_conv3 (Conv2D)        (None, 14, 14, 512)       2359808   \n",
      "_________________________________________________________________\n",
      "block5_conv4 (Conv2D)        (None, 14, 14, 512)       2359808   \n",
      "_________________________________________________________________\n",
      "block5_pool (MaxPooling2D)   (None, 7, 7, 512)         0         \n",
      "_________________________________________________________________\n",
      "flatten_3 (Flatten)          (None, 25088)             0         \n",
      "_________________________________________________________________\n",
      "dense_5 (Dense)              (None, 512)               12845568  \n",
      "_________________________________________________________________\n",
      "dense_6 (Dense)              (None, 17)                8721      \n",
      "=================================================================\n",
      "Total params: 32,878,673\n",
      "Trainable params: 32,878,673\n",
      "Non-trainable params: 0\n",
      "_________________________________________________________________\n",
      "Found 1190 images belonging to 17 classes.\n",
      "Found 170 images belonging to 17 classes.\n",
      "Epoch 1/1\n",
      "1/2 [==============>...............] - ETA: 41s - loss: 13.1476 - acc: 0.1250"
     ]
    }
   ],
   "source": [
    "fc_history = model(\"fc\")\n",
    "avg_history = model(\"avg\")\n",
    "max_history = model(\"max\")"
   ]
  },
  {
   "cell_type": "code",
   "execution_count": null,
   "metadata": {
    "collapsed": true
   },
   "outputs": [],
   "source": [
    "plt.plot(fc_history.hsitory[\"val_acc\"])\n",
    "plt.plot(avg_history.history[\"val_acc\"])\n",
    "plt.plot(avg_history.history[\"cal_acc\"])\n",
    "\n",
    "plt.title(\"Model accuracy\")\n",
    "plt.ylabel(\"Validation accuracy\")\n",
    "plt.xlabel(\"Epoch\")\n",
    "\n",
    "plt.legend([\"FC\",\"AVG\",\"MAX\"],loc = \"lower right\")\n",
    "\n",
    "plt.grid(True)\n",
    "plt.show()"
   ]
  },
  {
   "cell_type": "code",
   "execution_count": null,
   "metadata": {
    "collapsed": true
   },
   "outputs": [],
   "source": [
    "plt.plot(fc_history.history[\"val_loss\"])\n",
    "plt.plot(avg.history.history[\"val_loss\"])\n",
    "plt.plot(max.history.history[\"val_loss\"])\n",
    "\n",
    "plt.title(\"Model loss\")\n",
    "plt.ylabel(\"Loss\")\n",
    "plt.alabel(\"Epoch\")\n",
    "\n",
    "plt.legend([\"FC\",\"ACG\",\"MAX\"])\n",
    "plt.grid(True)\n",
    "plt.show()"
   ]
  },
  {
   "cell_type": "code",
   "execution_count": null,
   "metadata": {
    "collapsed": true
   },
   "outputs": [],
   "source": [
    "Reference:    https://www.cnblogs.com/hutao722/p/10008581.html"
   ]
  }
 ],
 "metadata": {
  "kernelspec": {
   "display_name": "Python [default]",
   "language": "python",
   "name": "python3"
  },
  "language_info": {
   "codemirror_mode": {
    "name": "ipython",
    "version": 3
   },
   "file_extension": ".py",
   "mimetype": "text/x-python",
   "name": "python",
   "nbconvert_exporter": "python",
   "pygments_lexer": "ipython3",
   "version": "3.5.4"
  }
 },
 "nbformat": 4,
 "nbformat_minor": 2
}
