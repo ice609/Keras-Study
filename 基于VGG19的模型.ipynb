{
 "cells": [
  {
   "cell_type": "code",
   "execution_count": null,
   "metadata": {
    "collapsed": true
   },
   "outputs": [],
   "source": [
    "keras.applications.vgg19.VGG19(include_top=True, weights='imagenet', input_tensor=None,\n",
    "                               input_shape=None, pooling=None, classes=1000)"
   ]
  },
  {
   "cell_type": "code",
   "execution_count": null,
   "metadata": {
    "collapsed": true
   },
   "outputs": [],
   "source": [
    "\"\"\"\n",
    "\n",
    "VGG19 模型，权值由 ImageNet 训练而来。\n",
    "\n",
    "该模型可同时构建于 channels_first (通道，高度，宽度) 和 channels_last（高度，宽度，通道）两种输入维度顺序。\n",
    "\n",
    "模型默认输入尺寸是 224x224。\n",
    "\n",
    "参数\n",
    "include_top: 是否包括顶层的全连接层。\n",
    "weights: None 代表随机初始化， 'imagenet' 代表加载在 ImageNet 上预训练的权值。\n",
    "input_tensor: 可选，Keras tensor 作为模型的输入（即 layers.Input() 输出的 tensor）。\n",
    "input_shape: 可选，输入尺寸元组，仅当 include_top=False 时有效，否则输入形状必须是 (244, 244, 3)（对于 channels_last 数据格式），或者 (3, 244, 244)（对于 channels_first 数据格式）。它必须拥有 3 个输入通道，且宽高必须不小于 32。例如 (200, 200, 3) 是一个合法的输入尺寸。\n",
    "pooling: 可选，当 include_top 为 False 时，该参数指定了特征提取时的池化方式。\n",
    "None 代表不池化，直接输出最后一层卷积层的输出，该输出是一个四维张量。\n",
    "'avg' 代表全局平均池化（GlobalAveragePooling2D），相当于在最后一层卷积层后面再加一层全局平均池化层，输出是一个二维张量。\n",
    "'max' 代表全局最大池化\n",
    "classes: 可选，图片分类的类别数，仅当 include_top 为 True 并且不加载预训练权值时可用。\n",
    "返回值\n",
    "一个 Keras Model 对象。\n",
    "\n",
    "参考文献\n",
    "Very Deep Convolutional Networks for Large-Scale Image Recognition：如果在研究中使用了VGG，请引用该论文。\n",
    "License\n",
    "预训练权值由 VGG at Oxford 发布的预训练权值移植而来，基于 Creative Commons Attribution License。\n",
    "\n",
    "\"\"\""
   ]
  }
 ],
 "metadata": {
  "kernelspec": {
   "display_name": "Python [default]",
   "language": "python",
   "name": "python3"
  },
  "language_info": {
   "codemirror_mode": {
    "name": "ipython",
    "version": 3
   },
   "file_extension": ".py",
   "mimetype": "text/x-python",
   "name": "python",
   "nbconvert_exporter": "python",
   "pygments_lexer": "ipython3",
   "version": "3.5.4"
  }
 },
 "nbformat": 4,
 "nbformat_minor": 2
}
